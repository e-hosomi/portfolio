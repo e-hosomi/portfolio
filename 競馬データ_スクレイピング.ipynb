{
  "cells": [
    {
      "cell_type": "code",
      "source": [
        "#グーグルドライブ上のデータフレーム読み込み\n",
        "from google.colab import drive\n",
        "drive.mount('/content/drive')\n",
        "%cd /content/drive/My Drive/\n",
        "\n",
        "import pandas as pd\n",
        "df_all = pd.read_pickle(r\"df2001_2023.pkl\")"
      ],
      "metadata": {
        "id": "MzcKKqQm0uW3"
      },
      "id": "MzcKKqQm0uW3",
      "execution_count": null,
      "outputs": []
    },
    {
      "cell_type": "markdown",
      "id": "03f59025",
      "metadata": {
        "id": "03f59025"
      },
      "source": [
        "# 血統登録番号リストを作成"
      ]
    },
    {
      "cell_type": "code",
      "execution_count": null,
      "id": "354d2ce9",
      "metadata": {
        "colab": {
          "base_uri": "https://localhost:8080/"
        },
        "id": "354d2ce9",
        "outputId": "cf0f224b-3f3f-45bc-d576-3e60dc1b1327"
      },
      "outputs": [
        {
          "output_type": "stream",
          "name": "stdout",
          "text": [
            "[20106706 19106194 17103309 ... 98106548 98107180 98105525]\n",
            "108829\n"
          ]
        }
      ],
      "source": [
        "print(df_all['血統登録番号'].unique())\n",
        "print(len(df_all['血統登録番号'].unique()))"
      ]
    },
    {
      "cell_type": "code",
      "execution_count": null,
      "id": "579600b8",
      "metadata": {
        "colab": {
          "base_uri": "https://localhost:8080/"
        },
        "id": "579600b8",
        "outputId": "e10f64f4-5e70-46e8-d74e-f18d6b0cb6f2"
      },
      "outputs": [
        {
          "output_type": "stream",
          "name": "stdout",
          "text": [
            "2文字: 0件\n",
            "3文字: 0件\n",
            "4文字: 0件\n",
            "5文字: 0件\n",
            "6文字: 54921件\n",
            "7文字: 682683件\n",
            "8文字: 620504件\n",
            "9文字: 0件\n",
            "10文字: 0件\n"
          ]
        }
      ],
      "source": [
        "for i in range(2,11):\n",
        "    # '血統登録番号'カラムの各要素を文字列に変換し、その長さが1である行の数を数える\n",
        "    count = df_all[df_all['血統登録番号'].astype(str).apply(len) == i].count()\n",
        "    # 結果を \"i文字: count\" の形式で表示\n",
        "    print(f\"{i}文字: {count['血統登録番号']}件\")"
      ]
    },
    {
      "cell_type": "code",
      "source": [
        "# 血統登録番号カラムを文字列型に変換\n",
        "df_all['血統登録番号'] = df_all['血統登録番号'].astype(str)"
      ],
      "metadata": {
        "id": "-_qOcqsPFEWp"
      },
      "id": "-_qOcqsPFEWp",
      "execution_count": null,
      "outputs": []
    },
    {
      "cell_type": "code",
      "execution_count": null,
      "id": "4619d461",
      "metadata": {
        "colab": {
          "base_uri": "https://localhost:8080/"
        },
        "id": "4619d461",
        "outputId": "a5c02cce-fea0-4259-cd69-c6627d474e44"
      },
      "outputs": [
        {
          "output_type": "stream",
          "name": "stdout",
          "text": [
            "6文字の内容：['100231' '101470' '100965' ... '104287' '104074' '103502']\n",
            "6文字の要素の数＜一意＞：4237\n",
            "7文字の内容：['9100502' '9103405' '9102606' ... '1101159' '1107050' '1105145']\n",
            "7文字の要素の数＜一意＞：40925\n",
            "8文字の内容：['20106706' '19106194' '17103309' ... '98106548' '98107180' '98105525']\n",
            "8文字の要素の数＜一意＞：63667\n"
          ]
        }
      ],
      "source": [
        "# 血統登録番号の文字列の長さごとの内容を確認\n",
        "for i in range(6,9):\n",
        "    invalid_blood_rows = df_all[df_all['血統登録番号'].str.len() == i]\n",
        "    print(f\"{i}文字の内容：{invalid_blood_rows['血統登録番号'].unique()}\")\n",
        "    print(f\"{i}文字の要素の数＜一意＞：{len(invalid_blood_rows['血統登録番号'].unique())}\")"
      ]
    },
    {
      "cell_type": "markdown",
      "id": "65b1af6c",
      "metadata": {
        "id": "65b1af6c"
      },
      "source": [
        "## スクレイピング時の血統登録番号は先頭2+(0埋め)血統登録番号の、全10桁のため、不足を補充"
      ]
    },
    {
      "cell_type": "code",
      "execution_count": null,
      "id": "9a3d6276",
      "metadata": {
        "id": "9a3d6276"
      },
      "outputs": [],
      "source": [
        "# 血統登録番号の文字数に応じた処理を関数で定義\n",
        "\n",
        "# 6桁：文字列2000を前に連結\n",
        "# 7桁：文字列200を前に連結\n",
        "# 8桁：文字列20を前に連結\n",
        "\n",
        "def process_blood(x):\n",
        "    if len(x) == 6:\n",
        "        return '2000' + x\n",
        "    elif len(x) == 7:\n",
        "        return '200' + x\n",
        "    elif len(x) == 8:\n",
        "        return '20' + x\n",
        "    else:\n",
        "        return x  # 他のケースでは元の値を返す\n",
        "\n",
        "# '血統登録番号'カラムの値を加工\n",
        "#  applyメソッドは引数へ与えた関数を各値に処理して返す\n",
        "df_all['血統登録番号'] = df_all['血統登録番号'].astype(str).apply(process_blood)"
      ]
    },
    {
      "cell_type": "code",
      "execution_count": null,
      "id": "9882ed18",
      "metadata": {
        "colab": {
          "base_uri": "https://localhost:8080/"
        },
        "id": "9882ed18",
        "outputId": "2a61cce4-92a6-4fb2-cb32-fc65cd4dd7a6"
      },
      "outputs": [
        {
          "output_type": "stream",
          "name": "stdout",
          "text": [
            "6文字の内容：[]\n",
            "6文字の要素の数＜一意＞：0\n",
            "7文字の内容：[]\n",
            "7文字の要素の数＜一意＞：0\n",
            "8文字の内容：[]\n",
            "8文字の要素の数＜一意＞：0\n",
            "9文字の内容：[]\n",
            "9文字の要素の数＜一意＞：0\n",
            "10文字の内容：['2020106706' '2019106194' '2017103309' ... '2098106548' '2098107180'\n",
            " '2098105525']\n",
            "10文字の要素の数＜一意＞：108829\n"
          ]
        }
      ],
      "source": [
        " #血 統登録番号の文字列の長さごとの内容を再確認\n",
        "for i in range(6,11):\n",
        "    invalid_blood_rows = df_all[df_all['血統登録番号'].str.len() == i]\n",
        "    print(f\"{i}文字の内容：{invalid_blood_rows['血統登録番号'].unique()}\")\n",
        "    print(f\"{i}文字の要素の数＜一意＞：{len(invalid_blood_rows['血統登録番号'].unique())}\")"
      ]
    },
    {
      "cell_type": "code",
      "execution_count": null,
      "id": "28394866",
      "metadata": {
        "id": "28394866"
      },
      "outputs": [],
      "source": [
        "# ユニークな血統登録番号をリストに格納\n",
        "blood_id = df_all['血統登録番号'].unique()"
      ]
    },
    {
      "cell_type": "markdown",
      "id": "148d5129",
      "metadata": {
        "id": "148d5129"
      },
      "source": [
        "# スクレイピングによるデータ取得処理"
      ]
    },
    {
      "cell_type": "code",
      "execution_count": null,
      "id": "1c1ad10b",
      "metadata": {
        "id": "1c1ad10b"
      },
      "outputs": [],
      "source": [
        "#htmlを解析しデータを抽出するためのライブラリ\n",
        "from bs4 import BeautifulSoup\n",
        "#httpリクエストを行うためのライブラリ\n",
        "#webページの情報を取得する\n",
        "import requests"
      ]
    },
    {
      "cell_type": "markdown",
      "id": "099c8f0e",
      "metadata": {
        "id": "099c8f0e"
      },
      "source": [
        "### スクレイピングの事前準備"
      ]
    },
    {
      "cell_type": "code",
      "execution_count": null,
      "id": "4e8b41c7",
      "metadata": {
        "id": "4e8b41c7"
      },
      "outputs": [],
      "source": [
        "# 待機時間用ライブラリ\n",
        "import time"
      ]
    },
    {
      "cell_type": "code",
      "execution_count": null,
      "id": "3155bc97",
      "metadata": {
        "id": "3155bc97"
      },
      "outputs": [],
      "source": [
        "%%time\n",
        "\n",
        "# スクレイピング結果を格納するリスト\n",
        "Aptitude_data_list = []\n",
        "\n",
        "# 探したい`<th>`タグのテキストのリストを作成\n",
        "search_texts = ['コース適性', '距離適性', '脚質', '成長', '重馬場']\n",
        "\n",
        "# 血統番号で馬番号をループする\n",
        "for id in blood_id[0:len(blood_id)+1]:\n",
        "\n",
        "    # URLの設定\n",
        "    url = \"https://db.netkeiba.com/horse/\" + id + \"/\"\n",
        "\n",
        "    # HTTPリクエストを行うための準備\n",
        "    response = requests.get(url)\n",
        "\n",
        "    # エンコーディング設定\n",
        "    response.encoding = 'euc-jp'\n",
        "\n",
        "    # HTMLの作成\n",
        "    html = response.text\n",
        "\n",
        "    # BeautifulSoupパーサーの作成\n",
        "    soup = BeautifulSoup(html, \"html.parser\")\n",
        "\n",
        "    # スクレイピング結果を格納するリスト\n",
        "    results = []\n",
        "\n",
        "    # HTML属性の解析および値の抽出\n",
        "    # `<dl class=\"tekisei\">`を見つける\n",
        "    tekisei_dl = soup.find('dl', class_='tekisei')\n",
        "\n",
        "    if tekisei_dl:\n",
        "\n",
        "        # `<dl>`内の`<tr>`タグをループ処理\n",
        "        for tr in tekisei_dl.find_all('tr'):\n",
        "\n",
        "            th = tr.find('th')\n",
        "\n",
        "            if th and th.text in search_texts:\n",
        "\n",
        "                # `<tr>`タグ内の`<td>`タグから`<img>`タグを探す\n",
        "                width_attrs = [img['width'] for img in tr.find_all('img', width=True)]\n",
        "\n",
        "                # 二番目の`width`属性の値を取得して保存\n",
        "                if len(width_attrs) >= 2:\n",
        "                    results.append(width_attrs[1])\n",
        "\n",
        "    Aptitude_data_list.append({id: results})\n",
        "\n",
        "    # 待ち時間を作成\n",
        "    time.sleep(0.5)\n",
        "\n",
        "# 結果をpickle形式で保存\n",
        "with open(\"data2001_5001.pickle\", \"wb\") as f:\n",
        "    pickle.dump(Aptitude_data_list, f)"
      ]
    }
  ],
  "metadata": {
    "kernelspec": {
      "display_name": "Python 3",
      "name": "python3"
    },
    "language_info": {
      "codemirror_mode": {
        "name": "ipython",
        "version": 3
      },
      "file_extension": ".py",
      "mimetype": "text/x-python",
      "name": "python",
      "nbconvert_exporter": "python",
      "pygments_lexer": "ipython3",
      "version": "3.10.9"
    },
    "colab": {
      "provenance": [],
      "machine_shape": "hm",
      "gpuType": "A100"
    },
    "accelerator": "GPU"
  },
  "nbformat": 4,
  "nbformat_minor": 5
}